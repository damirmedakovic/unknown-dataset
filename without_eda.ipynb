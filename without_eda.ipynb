{
 "cells": [
  {
   "cell_type": "code",
   "execution_count": 53,
   "metadata": {},
   "outputs": [],
   "source": [
    "import pandas as pd \n",
    "import numpy as np\n",
    "import seaborn as sns\n",
    "from sklearn.utils import shuffle\n",
    "import matplotlib.pyplot as plt\n",
    "%config InlineBackend.figure_format = 'retina'"
   ]
  },
  {
   "cell_type": "code",
   "execution_count": 54,
   "metadata": {},
   "outputs": [],
   "source": [
    "train = pd.read_csv(\"datasets/challenge1_train.csv\")\n",
    "test = pd.read_csv(\"datasets/challenge1_test.csv\")"
   ]
  },
  {
   "cell_type": "code",
   "execution_count": 55,
   "metadata": {},
   "outputs": [],
   "source": [
    "train.drop(\"f0\", 1, inplace=True)\n",
    "train.drop(\"f7\", 1, inplace=True)\n",
    "train.drop(\"f3\", 1, inplace=True)\n",
    "train.drop(\"f9\", 1, inplace=True)\n",
    "train.drop(\"f16\", 1, inplace=True)\n",
    "train.drop(\"f14\", 1, inplace=True)\n",
    "train.drop(\"f15\", 1, inplace=True)\n",
    "train.drop(\"f21\", 1, inplace=True)\n",
    "train.drop(\"f23\", 1, inplace=True)\n",
    "train.drop(\"f24\", 1, inplace=True)"
   ]
  },
  {
   "cell_type": "code",
   "execution_count": 56,
   "metadata": {},
   "outputs": [],
   "source": [
    "test.drop(\"f0\", 1, inplace=True)\n",
    "test.drop(\"f7\", 1, inplace=True)\n",
    "test.drop(\"f3\", 1, inplace=True)\n",
    "test.drop(\"f9\", 1, inplace=True)\n",
    "test.drop(\"f16\", 1, inplace=True)\n",
    "test.drop(\"f14\", 1, inplace=True)\n",
    "test.drop(\"f15\", 1, inplace=True)\n",
    "test.drop(\"f21\", 1, inplace=True)\n",
    "test.drop(\"f23\", 1, inplace=True)\n",
    "test.drop(\"f24\", 1, inplace=True)"
   ]
  },
  {
   "cell_type": "code",
   "execution_count": 57,
   "metadata": {},
   "outputs": [],
   "source": [
    "train.replace(\"\", np.nan, regex=True, inplace=True)\n",
    "train.dropna(inplace=True)\n",
    "test.replace(\"\", np.nan, regex=True, inplace=True)\n",
    "test.dropna(inplace=True)"
   ]
  },
  {
   "cell_type": "markdown",
   "metadata": {},
   "source": [
    "Alternatively, as implemented in the cell below, we can create a balanced training set. I find that the overall accuracy decreases by about 20% when doing this, but the accuracy on predicting the target to be 1 increases by about 30%. "
   ]
  },
  {
   "cell_type": "code",
   "execution_count": 59,
   "metadata": {},
   "outputs": [],
   "source": [
    "#train_sorted = train.sort_values(by=[\"target\"])\n",
    "#train_zeroes = train_sorted.iloc[:5881]\n",
    "#train_ones = train_sorted.iloc[-5881:]\n",
    "#train = pd.concat([train_zeroes, train_ones])\n",
    "#train = shuffle(train)\n"
   ]
  },
  {
   "cell_type": "code",
   "execution_count": 60,
   "metadata": {},
   "outputs": [],
   "source": [
    "X = train.iloc[:, 2:]\n",
    "y = train.iloc[:, 1]\n",
    "X_test = test.iloc[:, 1:]"
   ]
  },
  {
   "cell_type": "code",
   "execution_count": 61,
   "metadata": {},
   "outputs": [],
   "source": [
    "from sklearn.model_selection import train_test_split\n",
    "X_train, X_test, y_train, y_test = train_test_split(X, y, test_size=0.2, random_state=0)"
   ]
  },
  {
   "cell_type": "code",
   "execution_count": 62,
   "metadata": {},
   "outputs": [],
   "source": [
    "from sklearn.ensemble import RandomForestClassifier\n",
    "from sklearn.ensemble import StackingClassifier\n",
    "from sklearn.preprocessing import StandardScaler\n",
    "from sklearn.linear_model import LogisticRegression\n",
    "from sklearn.pipeline import make_pipeline\n",
    "from sklearn.svm import LinearSVC\n",
    "\n",
    "\n",
    "estimators = [\n",
    "    ('rf', RandomForestClassifier(n_estimators=20, random_state=42)),\n",
    "    ('svr', make_pipeline(StandardScaler(),\n",
    "    LinearSVC(random_state=0, tol=1e-1)))\n",
    "]\n",
    "\n",
    "classifier = StackingClassifier(estimators=estimators, final_estimator=LogisticRegression())\n",
    "\n",
    "\n",
    "\n",
    "classifier.fit(X_train, y_train)\n",
    "y_pred = classifier.predict_proba(X_test)\n",
    "y_pred_measure = classifier.predict(X_test)"
   ]
  },
  {
   "cell_type": "code",
   "execution_count": null,
   "metadata": {},
   "outputs": [],
   "source": []
  }
 ],
 "metadata": {
  "kernelspec": {
   "display_name": "Python 3",
   "language": "python",
   "name": "python3"
  },
  "language_info": {
   "codemirror_mode": {
    "name": "ipython",
    "version": 3
   },
   "file_extension": ".py",
   "mimetype": "text/x-python",
   "name": "python",
   "nbconvert_exporter": "python",
   "pygments_lexer": "ipython3",
   "version": "3.6.9"
  }
 },
 "nbformat": 4,
 "nbformat_minor": 4
}
